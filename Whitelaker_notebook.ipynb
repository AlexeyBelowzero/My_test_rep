{
  "nbformat": 4,
  "nbformat_minor": 0,
  "metadata": {
    "colab": {
      "provenance": [],
      "toc_visible": true,
      "authorship_tag": "ABX9TyP9XJbTzg+GTbcDfUp80yIY",
      "include_colab_link": true
    },
    "kernelspec": {
      "name": "python3",
      "display_name": "Python 3"
    },
    "language_info": {
      "name": "python"
    }
  },
  "cells": [
    {
      "cell_type": "markdown",
      "metadata": {
        "id": "view-in-github",
        "colab_type": "text"
      },
      "source": [
        "<a href=\"https://colab.research.google.com/github/AlexeyBelowzero/My_test_rep/blob/main/Whitelaker_notebook.ipynb\" target=\"_parent\"><img src=\"https://colab.research.google.com/assets/colab-badge.svg\" alt=\"Open In Colab\"/></a>"
      ]
    },
    {
      "cell_type": "markdown",
      "source": [
        "# Testing of Colaboratory"
      ],
      "metadata": {
        "id": "W3i4gFTyhqez"
      }
    },
    {
      "cell_type": "markdown",
      "source": [
        "print('Hello world!')"
      ],
      "metadata": {
        "id": "uRPPiA4CfPd_"
      }
    },
    {
      "cell_type": "code",
      "source": [
        "def printer_1():\n",
        "  for i in range(5):\n",
        "    print('Hi everybody!')\n",
        "\n",
        "\n",
        "printer_1()"
      ],
      "metadata": {
        "id": "zcaaaz7AfkvL"
      },
      "execution_count": null,
      "outputs": []
    },
    {
      "cell_type": "code",
      "source": [
        "import time\n",
        "\n",
        "\n",
        "def spent_time_decorator(func):\n",
        "    def inner():\n",
        "        x = time.time()\n",
        "        func()\n",
        "        print(f\"Lead time: {time.time() - x:.11f}\")\n",
        "\n",
        "    return inner\n",
        "\n",
        "\n",
        "@spent_time_decorator\n",
        "def printer():\n",
        "    for i in range(1, 1001):\n",
        "        if i % 2 == 0:\n",
        "            i += i\n",
        "    print(i)\n",
        "\n",
        "\n",
        "printer()"
      ],
      "metadata": {
        "id": "CpwILvVGfz2I"
      },
      "execution_count": null,
      "outputs": []
    },
    {
      "cell_type": "code",
      "source": [
        "def printer_2():\n",
        "  print('Hello man')\n",
        "\n",
        "\n",
        "printer_2()"
      ],
      "metadata": {
        "id": "LnfkADZygy5M"
      },
      "execution_count": null,
      "outputs": []
    },
    {
      "cell_type": "code",
      "source": [
        "def new_func():\n",
        "    for i in range(1, 101):\n",
        "        if i % 2 == 0:\n",
        "            print(i)\n",
        "\n",
        "\n",
        "new_func()"
      ],
      "metadata": {
        "id": "FsEZekyGi4rw"
      },
      "execution_count": null,
      "outputs": []
    }
  ]
}